{
 "cells": [
  {
   "cell_type": "code",
   "execution_count": null,
   "metadata": {
    "collapsed": false
   },
   "outputs": [],
   "source": [
    "## Author Katie Kosak\n",
    "## Last Edited 12-2016\n",
    "#from visual.graph import *\n",
    "\n",
    "from math import *\n",
    "import numpy as np\n",
    "from vpython import *"
   ]
  },
  {
   "cell_type": "code",
   "execution_count": null,
   "metadata": {
    "collapsed": true
   },
   "outputs": [],
   "source": [
    "x=[]\n",
    "y=[]\n",
    "z=[]\n",
    "xi=[]\n",
    "yi=[]\n",
    "zi=[]\n",
    "theta=0.26 # Line of Sight--- In our Example: 15 degrees. Python uses radian units"
   ]
  },
  {
   "cell_type": "code",
   "execution_count": null,
   "metadata": {
    "collapsed": false
   },
   "outputs": [],
   "source": [
    "for line in open('Cartesian_Coordinates.txt', 'r').readlines(): \n",
    "   if line.startswith('#'):\n",
    "       continue\n",
    "   if line.startswith('\\n'):\n",
    "       continue\n",
    "   fields = line.split() \n",
    "   x.append(fields[0])\n",
    "   y.append(fields[1]) \n",
    "   z.append(fields[2])\n",
    "    \n",
    "x=[float(i) for i in x] \n",
    "y=[float(i) for i in y]\n",
    "z=[float(i) for i in z]  "
   ]
  },
  {
   "cell_type": "code",
   "execution_count": null,
   "metadata": {
    "collapsed": false
   },
   "outputs": [],
   "source": [
    "\n",
    "scene.title = \"AGN Jet Model\"\n",
    "\n",
    "def display_instructions():\n",
    "    ## From VPython's Demo Double Pendulum Code\n",
    "    ## See: https://github.com/BruceSherwood/vpython-jupyter\n",
    "    s = \"In VPython programs:\\n\"\n",
    "    s += \"    Rotate the camera by dragging with the right mouse button,\\n        or hold down the Ctrl key and drag.\\n\"\n",
    "    s += \"    To zoom, drag with the left+right mouse buttons,\\n         or hold down the Alt/Option key and drag,\\n         or use the mouse wheel.\\n\"\n",
    "    s += \"Touch screen: pinch/extend to zoom, swipe or two-finger rotate.\"\n",
    "    s += \"The Line of Sight is displayed by the red line in the figure.\"\n",
    "    scene.caption = s\n",
    "\n",
    "# Display text below the 3D graphics:\n",
    "display_instructions()\n",
    "## Line of SIght\n",
    "x_los=np.arange(x[0],x[0]+30,1)\n",
    "y_los=np.arange(y[0],y[0]+30,1)\n",
    "z_los=np.arange(z[0],z[0]+30,1)\n",
    "x_los=np.tan(theta)*z_los+x[0]\n",
    "knot_origin=vector(min(x),min(y),min(z))\n",
    "xaxis=label(pos=vector(10,0,0), text='X-Axis')\n",
    "x_axis = arrow(pos=knot_origin,axis=vector(60,0,0), shaftwidth=1,color=color.white)\n",
    "yaxis=label(pos=vector(0,30,0), text='Y-Axis')\n",
    "y_axis = arrow(pos=knot_origin,axis=vector(0,60,0), shaftwidth=1,color=color.white)\n",
    "zaxis=label(pos=vector(0,0,30), text='Z-Axis')\n",
    "z_axis = arrow(pos=knot_origin,axis=vector(0,0,60), shaftwidth=1,color=color.white)\n",
    "## Model for the Jet\n",
    "for i in range(len(x)):\n",
    "    points(pos=[vector(x[i],y[i],z[i])],radius=1,color=color.green)\n",
    "\n",
    "Line_Of_Reference=curve(pos=[knot_origin,(x_los[-1],y_los[-1],z_los[-1])],radius=0.8,color=color.red)"
   ]
  },
  {
   "cell_type": "code",
   "execution_count": null,
   "metadata": {
    "collapsed": true
   },
   "outputs": [],
   "source": []
  }
 ],
 "metadata": {
  "anaconda-cloud": {},
  "kernelspec": {
   "display_name": "VPython",
   "language": "python",
   "name": "vpython"
  },
  "language_info": {
   "codemirror_mode": {
    "name": "ipython",
    "version": 3
   },
   "file_extension": ".py",
   "mimetype": "text/x-python",
   "name": "python",
   "nbconvert_exporter": "python",
   "pygments_lexer": "ipython3",
   "version": "3.5.2"
  }
 },
 "nbformat": 4,
 "nbformat_minor": 0
}
