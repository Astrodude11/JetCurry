{
 "cells": [
  {
   "cell_type": "code",
   "execution_count": 1,
   "metadata": {
    "collapsed": false
   },
   "outputs": [
    {
     "ename": "ImportError",
     "evalue": "cannot import name 'anneal'",
     "output_type": "error",
     "traceback": [
      "\u001b[0;31m---------------------------------------------------------------------------\u001b[0m",
      "\u001b[0;31mImportError\u001b[0m                               Traceback (most recent call last)",
      "\u001b[0;32m<ipython-input-1-081e925d575b>\u001b[0m in \u001b[0;36m<module>\u001b[0;34m()\u001b[0m\n\u001b[1;32m      5\u001b[0m \u001b[0m__status__\u001b[0m\u001b[0;34m=\u001b[0m\u001b[0;34m\"production\"\u001b[0m\u001b[0;34m\u001b[0m\u001b[0m\n\u001b[1;32m      6\u001b[0m \u001b[0;34m\u001b[0m\u001b[0m\n\u001b[0;32m----> 7\u001b[0;31m \u001b[0;32mfrom\u001b[0m \u001b[0mscipy\u001b[0m\u001b[0;34m.\u001b[0m\u001b[0moptimize\u001b[0m \u001b[0;32mimport\u001b[0m \u001b[0mfsolve\u001b[0m\u001b[0;34m,\u001b[0m\u001b[0manneal\u001b[0m\u001b[0;34m,\u001b[0m\u001b[0mcurve_fit\u001b[0m\u001b[0;34m\u001b[0m\u001b[0m\n\u001b[0m\u001b[1;32m      8\u001b[0m \u001b[0;32mfrom\u001b[0m \u001b[0mscipy\u001b[0m \u001b[0;32mimport\u001b[0m \u001b[0marray\u001b[0m\u001b[0;34m\u001b[0m\u001b[0m\n\u001b[1;32m      9\u001b[0m \u001b[0;32mimport\u001b[0m \u001b[0mpyfits\u001b[0m\u001b[0;34m\u001b[0m\u001b[0m\n",
      "\u001b[0;31mImportError\u001b[0m: cannot import name 'anneal'"
     ]
    }
   ],
   "source": [
    "__author__=\"Katie Kosak\"\n",
    "__email__=\"mkosak2011@my.fit.edu\"\n",
    "__email__=\"katie.kosak@gmail.com\"\n",
    "__credits__=[\"KunYang Li\", \"Dr. Eric Perlman\", \"Sayali Avachat\"]\n",
    "__status__=\"production\"\n",
    "\n",
    "from scipy.optimize import fsolve,anneal,curve_fit\n",
    "from scipy import array\n",
    "import pyfits\n",
    "import numpy as np\n",
    "from numpy import convolve\n",
    "import matplotlib.pyplot as plt\n",
    "import math\n",
    "from pylab import *\n",
    "from matplotlib import *\n",
    "from scipy.interpolate import spline\n",
    "from mpl_toolkits.mplot3d import Axes3D\n",
    "from numpy import ma\n",
    "from matplotlib import scale as mscale\n",
    "from matplotlib import transforms as mtransforms\n",
    "import matplotlib.ticker as ticker\n",
    "s=[]\n",
    "eta=[]\n",
    "def imagesqrt(image, scale_min, scale_max):\n",
    "        # Algorithm Courtesy of Min-Su Shin (msshin @ umich.edu) \n",
    "        # Modified by Katie Kosak 07/02/2015 to fit the needs\n",
    "        # of Dr. Perlman's Research\n",
    "   imageData=np.array(image, copy=True)\n",
    "   imageData = imageData - scale_min\n",
    "   indices = np.where(imageData < 0)\n",
    "   imageData[indices] = 0.0\n",
    "   imageData = np.sqrt(imageData)\n",
    "   imageData = imageData / math.sqrt(scale_max - scale_min)\n",
    "   return imageData"
   ]
  },
  {
   "cell_type": "code",
   "execution_count": 2,
   "metadata": {
    "collapsed": false
   },
   "outputs": [],
   "source": [
    "def moving_average(x,y,step_size=0.1,width=4):\n",
    "    bin_centers  = np.arange(np.min(x),np.max(x)-0.5*step_size,step_size)+0.5*step_size\n",
    "    bin_avg = np.zeros(len(bin_centers))\n",
    "    def gaussian(x,amp=1,mean=0,sigma=1):\n",
    "        return amp*np.exp(-(x-mean)**2/(2*sigma**2))\n",
    "\n",
    "    for index in range(0,len(bin_centers)):\n",
    "        bin_center = bin_centers[index]\n",
    "        weights = gaussian(x,mean=bin_center,sigma=width)\n",
    "        bin_avg[index] = np.average(y,weights=weights)\n",
    "\n",
    "    return (bin_centers,bin_avg)\n"
   ]
  },
  {
   "cell_type": "code",
   "execution_count": null,
   "metadata": {
    "collapsed": false
   },
   "outputs": [],
   "source": [
    "## Open the image from fits file \n",
    "## Obtain image parameters\n",
    "## 4 pixels\n",
    "nameofknots='m87_newknotD'\n",
    "filename=nameofknots+'.fits'\n",
    "file1=pyfits.getdata(filename)\n",
    "pixel_min=np.nanmin(file1)\n",
    "pixel_maxima=np.nanmax(file1)\n",
    "file1=imagesqrt(file1,pixel_min,pixel_maxima) # Square Root Scaling for fits image\n",
    "plt.imshow(file1)\n",
    "## Go column by column to calculate the max flux for each column\n",
    "height, width=file1.shape\n",
    "intensity_max=[]\n",
    "intensity_ypos=[]\n",
    "intensity_xpos=[]\n",
    "temp=np.zeros(shape=(height,1))\n",
    "for k in range(0,width-1):\n",
    "    for j in range(0,height-1):\n",
    "        pixel=file1[j,k]\n",
    "        temp[j]=pixel\n",
    "    pixel_max=max(temp)\n",
    "    position=[i for i, j in enumerate(temp) if j == pixel_max] \n",
    "    intensity_max.append(pixel_max)\n",
    "    intensity_ypos.append(position[0])\n",
    "    intensity_xpos.append(k)\n",
    "intensity_max=np.array(intensity_max)\n",
    "intensity_ypos=np.array(intensity_ypos)\n",
    "intensity_xpos=np.array(intensity_xpos)"
   ]
  },
  {
   "cell_type": "code",
   "execution_count": null,
   "metadata": {
    "collapsed": false
   },
   "outputs": [],
   "source": [
    "\n",
    "## Find the average of each column of the data\n",
    "intensity_average=[]\n",
    "temp_pos=np.zeros(shape=(height,1))\n",
    "temp_intensity=np.zeros(shape=(height,1))\n",
    "for k in range(width-1):\n",
    "    for j in range(height-1):\n",
    "        pixel=file1[j,k]\n",
    "        temp_pos[j]=j\n",
    "        temp_intensity[j]=pixel\n",
    "    bin_centers,pixel_average=moving_average(temp_pos,temp_intensity)  \n",
    "    intensity_average.append(pixel_average)\n",
    "x=intensity_xpos\n",
    "y=intensity_ypos\n",
    "#popt,pcov=curve_fit(gaussian,x,y)\n",
    "\n",
    "#x_smooth = np.linspace(x.min(), x.max(), 42)\n",
    "x_smooth=np.array((0,2,4,6,8,10,12,14,16,18,20,22,24,26,28,30,32,33,34,36,38,40,42,46,48,50,52,54,56,58,60,62,64,66,67,68,70,72,74,76,78,80,82,84,86,90,92,95))\n",
    "y_smooth = spline(x, y, x_smooth)\n",
    "\n",
    "## Define Axis\n",
    "#plt.contour(file1,30, cmap='gray')\n",
    "plt.plot(x_smooth,y_smooth)\n",
    "scale=0.025\n",
    "xscale=width*scale\n",
    "yscale=height*scale\n",
    "plt.title(nameofknots)\n",
    "ax = plt.gca()\n",
    "ax.invert_yaxis()#plt.plot(xl, yl, '-r')\n",
    "plt.show()"
   ]
  },
  {
   "cell_type": "code",
   "execution_count": null,
   "metadata": {
    "collapsed": false
   },
   "outputs": [],
   "source": [
    "\n",
    "## Calculate the s and eta values\n",
    "for i in range(len(x_smooth)):\n",
    "    s_value=(x_smooth[i]**2+y_smooth[i]**2)**(0.5)\n",
    "    eta_value=math.atan2(y_smooth[i]/x_smooth[i])\n",
    "    s.append(s_value)\n",
    "    eta.append(eta_value)\n",
    "file=open('M87_knotDparameters.txt', 'w')\n",
    "for x in range(len(x_smooth)):\n",
    "    file.write(str(s[x])+'\\t'+ str(eta[x])+'\\t'+ str(x_smooth[x]) +'\\t'+ str(y_smooth[x])+'\\n')\n",
    "file.close()\n",
    " "
   ]
  }
 ],
 "metadata": {
  "anaconda-cloud": {},
  "kernelspec": {
   "display_name": "Python [default]",
   "language": "python",
   "name": "python3"
  },
  "language_info": {
   "codemirror_mode": {
    "name": "ipython",
    "version": 3
   },
   "file_extension": ".py",
   "mimetype": "text/x-python",
   "name": "python",
   "nbconvert_exporter": "python",
   "pygments_lexer": "ipython3",
   "version": "3.5.2"
  }
 },
 "nbformat": 4,
 "nbformat_minor": 0
}
